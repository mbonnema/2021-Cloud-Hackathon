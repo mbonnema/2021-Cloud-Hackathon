{
 "cells": [
  {
   "cell_type": "markdown",
   "metadata": {},
   "source": [
    "# 07. Data Subsetting and Transformation Services in the Cloud\n",
    "\n",
    "## Using the Harmony-Py library to access customized data from NASA Earthdata "
   ]
  },
  {
   "cell_type": "raw",
   "metadata": {},
   "source": [
    "---\n",
    "\n",
    "### Timing:\n",
    "- Exercise: 40 minutes\n",
    "\n",
    "---"
   ]
  },
  {
   "cell_type": "markdown",
   "metadata": {},
   "source": [
    "## Summary\n",
    "\n",
    "We have already explored direct access to the NASA EOSDIS archive in the cloud via the Amazon Simple Storage Service (S3) by using the Common Metadata Repository (CMR) to search for granule locations. In addition to directly accessing the files archived and distributed by each of the NASA DAACs, many datasets also support services that allow us to customize the data via subsetting, reformatting, reprojection, and other transformations. \n",
    "\n",
    "This tutorial demonstrates how to find, request, and use customized data from a new ecosystem of services operating within the NASA Earthdata Cloud: NASA Harmony.\n",
    "\n",
    "### Benefits\n",
    "\n",
    "But first, why use this option when we've already learned how to access data directly from the NASA Earthdata Cloud? \n",
    "\n",
    "- Consistent access patterns to EOSDIS holdings make cross-data center data access easier\n",
    "- Data reduction services allow us to request only the data we want, in the format and projection we want\n",
    "- Analysis Ready Data and cloud access will help reduce time-to-science\n",
    "- Community Development helps reduce the barriers for re-use of code and sharing of domain knowledge\n",
    "\n",
    "![Data file filtering and subsetting](data/subsetting_diagram.png)\n",
    "\n",
    "See more on the [Earthdata Harmony landing page](https://harmony.earthdata.nasa.gov/), including documentation on the Harmony API itself. \n",
    "\n",
    "\n",
    "### Objectives\n",
    "\n",
    "1. Conceptualize the data transformation service types and offerings provided by NASA Earthdata, including Harmony.\n",
    "2. Practice skills learned from the introductory CMR tutorial to discover what access and service options exist for a given data set, as well as variable metadata.\n",
    "3. Utilize the Harmony-py library to request subsetted MODIS L2 Sea Surface Temperature data over the Gulf of Mexico. \n",
    "4. Read Harmony subsetted outputs directly into xarray. \n",
    "___\n",
    "\n",
    "## Import Packages"
   ]
  },
  {
   "cell_type": "code",
   "execution_count": 1,
   "metadata": {},
   "outputs": [],
   "source": [
    "from harmony import BBox, Client, Collection, Request, LinkType\n",
    "from harmony.config import Environment\n",
    "import requests\n",
    "from pprint import pprint\n",
    "import datetime as dt\n",
    "import s3fs\n",
    "import xarray as xr"
   ]
  },
  {
   "cell_type": "markdown",
   "metadata": {},
   "source": [
    "## Discover service options for a given data set\n",
    "\n",
    "#### _First, what do we mean by a \"service\"?_\n",
    "\n",
    "In the context of NASA Earthdata, we are usually referring to a service as any data transformation or customization process that packages or delivers data in a way that makes it easier to work with compared to how the data are natively archived at NASA EOSDIS. Basic customization options may include:\n",
    "* Subsetting (cropping) the data by:\n",
    "    * Variable\n",
    "    * Spatial boundary,\n",
    "    * Temporal range\n",
    "* Reformatting\n",
    "    * For example: From NetCDF-4 to Cloud Optimized GeoTIFF\n",
    "* Reprojection and/or Resampling\n",
    "    * For example: From Sinusoidal to Polar Stereographic\n",
    "* Mosaicking\n",
    "* Aggregating\n",
    "\n",
    "A few main types or pathways for services that are commonly supported across the NASA DAACs include:\n",
    "* [NASA Global Imagery Browse Service](https://earthdata.nasa.gov/eosdis/science-system-description/eosdis-components/gibs)\n",
    "    * Web services providing imagery, much of which is updated daily, to broaden accessibility of NASA EOSDIS data to the media and public.\n",
    "        * Web Map Tile Service (WMTS)\n",
    "        * Tiled Web Map Service (TWMS)\n",
    "        * Web Map Service (WMS)\n",
    "        * Keyhole Markup Language (KML)\n",
    "        * Geospatial Data Abstraction Library (GDAL)\n",
    "* [OPeNDAP](https://opendap.earthdata.nasa.gov/)\n",
    "    * The Open-source Project for a Network Data Access Protocol is a NASA community standard DAP that provides a simple way to access and work with data over the internet. OPeNDAP's client/server software allows us to subset and reformat data using an internet browser, command line interface, and other applications.\n",
    "* [Harmony](https://harmony.earthdata.nasa.gov/)\n",
    "    * In the most basic sense, Harmony is an Application Programming Interface, or API, allowing us to request customization options described above, which are then processed and returned as file outputs. Harmony helps to reduce pre-processing steps so we can spend less time preparing the data, and more time doing science.  \n",
    "\n",
    "**Note: These service offerings are unique to each NASA EOSDIS dataset.**\n",
    "\n",
    "Why is this?\n",
    "\n",
    "Due to varying [levels of service](https://earthdata.nasa.gov/collaborate/new-missions/level-of-service), cloud migration status, and unique characteristics of the datasets themselves, not all service options are provided for all datasets. Therefore it is important to first explore a given dataset's metadata to discover what service options are provided.\n",
    "\n",
    "Let's utilize the CMR API skills we learned on Day 1 to inspect service metadata:"
   ]
  },
  {
   "cell_type": "code",
   "execution_count": 2,
   "metadata": {},
   "outputs": [],
   "source": [
    "url = 'https://cmr.earthdata.nasa.gov/search'"
   ]
  },
  {
   "cell_type": "markdown",
   "metadata": {},
   "source": [
    "We want to search by collection to inspect the access and service options that exist:"
   ]
  },
  {
   "cell_type": "code",
   "execution_count": 3,
   "metadata": {},
   "outputs": [],
   "source": [
    "collection_url = f'{url}/{\"collections\"}'"
   ]
  },
  {
   "cell_type": "markdown",
   "metadata": {},
   "source": [
    "In the CMR introduction tutorial, we explored cloud-hosted collections from different DAAC providers, and identified the CMR `concept-id` for a given data set id (also referred to as a `short_name`). \n",
    "\n",
    "Here we are jumping ahead and already know the `concept_id` we are interested in, by browsing cloud-hosted datasets from PO.DAAC in Earthdata Search: https://search.earthdata.nasa.gov/portal/podaac-cloud/search. \n",
    "\n",
    "We are going to focus on `MODIS_A-JPL-L2P-v2019.0`: GHRSST Level 2P Global Sea Surface Skin Temperature from the Moderate Resolution Imaging Spectroradiometer (MODIS) on the NASA Aqua satellite (GDS2). Let's first save this as a variable that we can use later on once we request data from Harmony."
   ]
  },
  {
   "cell_type": "code",
   "execution_count": 4,
   "metadata": {},
   "outputs": [],
   "source": [
    "short_name= 'MODIS_A-JPL-L2P-v2019.0'\n",
    "concept_id = 'C1940473819-POCLOUD'"
   ]
  },
  {
   "cell_type": "markdown",
   "metadata": {},
   "source": [
    "We will view the top-level metadata for this collection to see what additional service and variable metadata exist."
   ]
  },
  {
   "cell_type": "code",
   "execution_count": 5,
   "metadata": {},
   "outputs": [],
   "source": [
    "response = requests.get(collection_url, \n",
    "                        params={\n",
    "                            'concept_id': concept_id,\n",
    "                            },\n",
    "                        headers={\n",
    "                            'Accept': 'application/json'\n",
    "                            }\n",
    "                       )\n",
    "response = response.json()"
   ]
  },
  {
   "cell_type": "markdown",
   "metadata": {},
   "source": [
    "Print the response:"
   ]
  },
  {
   "cell_type": "code",
   "execution_count": 6,
   "metadata": {},
   "outputs": [
    {
     "name": "stdout",
     "output_type": "stream",
     "text": [
      "{'feed': {'entry': [{'archive_center': 'NASA/JPL/PODAAC',\n",
      "                     'associations': {'services': ['S1962070864-POCLOUD',\n",
      "                                                   'S2004184019-POCLOUD'],\n",
      "                                      'tools': ['TL2108419875-POCLOUD',\n",
      "                                                'TL2092786348-POCLOUD'],\n",
      "                                      'variables': ['V1997812737-POCLOUD',\n",
      "                                                    'V1997812697-POCLOUD',\n",
      "                                                    'V2112014688-POCLOUD',\n",
      "                                                    'V1997812756-POCLOUD',\n",
      "                                                    'V1997812688-POCLOUD',\n",
      "                                                    'V1997812670-POCLOUD',\n",
      "                                                    'V1997812724-POCLOUD',\n",
      "                                                    'V2112014684-POCLOUD',\n",
      "                                                    'V1997812701-POCLOUD',\n",
      "                                                    'V1997812681-POCLOUD',\n",
      "                                                    'V2112014686-POCLOUD',\n",
      "                                                    'V1997812663-POCLOUD',\n",
      "                                                    'V1997812676-POCLOUD',\n",
      "                                                    'V1997812744-POCLOUD',\n",
      "                                                    'V1997812714-POCLOUD']},\n",
      "                     'boxes': ['-90 -180 90 180'],\n",
      "                     'browse_flag': True,\n",
      "                     'collection_data_type': 'SCIENCE_QUALITY',\n",
      "                     'coordinate_system': 'CARTESIAN',\n",
      "                     'data_center': 'POCLOUD',\n",
      "                     'dataset_id': 'GHRSST Level 2P Global Sea Surface Skin '\n",
      "                                   'Temperature from the Moderate Resolution '\n",
      "                                   'Imaging Spectroradiometer (MODIS) on the '\n",
      "                                   'NASA Aqua satellite (GDS2)',\n",
      "                     'has_formats': True,\n",
      "                     'has_spatial_subsetting': True,\n",
      "                     'has_temporal_subsetting': True,\n",
      "                     'has_transforms': False,\n",
      "                     'has_variables': True,\n",
      "                     'id': 'C1940473819-POCLOUD',\n",
      "                     'links': [{'href': 'https://podaac.jpl.nasa.gov/Podaac/thumbnails/MODIS_A-JPL-L2P-v2019.0.jpg',\n",
      "                                'hreflang': 'en-US',\n",
      "                                'rel': 'http://esipfed.org/ns/fedsearch/1.1/browse#'},\n",
      "                               {'href': 'https://github.com/podaac/data-readers',\n",
      "                                'hreflang': 'en-US',\n",
      "                                'rel': 'http://esipfed.org/ns/fedsearch/1.1/documentation#'},\n",
      "                               {'href': 'https://podaac-tools.jpl.nasa.gov/drive/files/OceanTemperature/ghrsst/docs/GDS20r5.pdf',\n",
      "                                'hreflang': 'en-US',\n",
      "                                'rel': 'http://esipfed.org/ns/fedsearch/1.1/documentation#'},\n",
      "                               {'href': 'https://ghrsst.jpl.nasa.gov',\n",
      "                                'hreflang': 'en-US',\n",
      "                                'rel': 'http://esipfed.org/ns/fedsearch/1.1/documentation#'},\n",
      "                               {'href': 'https://oceancolor.gsfc.nasa.gov/atbd/sst/flag/',\n",
      "                                'hreflang': 'en-US',\n",
      "                                'rel': 'http://esipfed.org/ns/fedsearch/1.1/documentation#'},\n",
      "                               {'href': 'https://oceancolor.gsfc.nasa.gov/reprocessing/r2019/sst/',\n",
      "                                'hreflang': 'en-US',\n",
      "                                'rel': 'http://esipfed.org/ns/fedsearch/1.1/documentation#'},\n",
      "                               {'href': 'https://oceancolor.gsfc.nasa.gov/atbd/sst4/',\n",
      "                                'hreflang': 'en-US',\n",
      "                                'rel': 'http://esipfed.org/ns/fedsearch/1.1/documentation#'},\n",
      "                               {'href': 'https://modis.gsfc.nasa.gov/data/atbd/atbd_mod25.pdf',\n",
      "                                'hreflang': 'en-US',\n",
      "                                'rel': 'http://esipfed.org/ns/fedsearch/1.1/documentation#'},\n",
      "                               {'href': 'https://oceancolor.gsfc.nasa.gov/atbd/sst/',\n",
      "                                'hreflang': 'en-US',\n",
      "                                'rel': 'http://esipfed.org/ns/fedsearch/1.1/documentation#'},\n",
      "                               {'href': 'http://www.ghrsst.org',\n",
      "                                'hreflang': 'en-US',\n",
      "                                'rel': 'http://esipfed.org/ns/fedsearch/1.1/documentation#'},\n",
      "                               {'href': 'https://podaac.jpl.nasa.gov/forum/viewforum.php?f=18&sid=e2d67e5a01815fc6e39fcd2087ed8bc8',\n",
      "                                'hreflang': 'en-US',\n",
      "                                'rel': 'http://esipfed.org/ns/fedsearch/1.1/documentation#'},\n",
      "                               {'href': 'https://podaac.jpl.nasa.gov/CitingPODAAC',\n",
      "                                'hreflang': 'en-US',\n",
      "                                'rel': 'http://esipfed.org/ns/fedsearch/1.1/documentation#'},\n",
      "                               {'href': 'https://cmr.earthdata.nasa.gov/virtual-directory/collections/C1940473819-POCLOUD',\n",
      "                                'hreflang': 'en-US',\n",
      "                                'length': '75.0MB',\n",
      "                                'rel': 'http://esipfed.org/ns/fedsearch/1.1/data#'},\n",
      "                               {'href': 'https://github.com/podaac/tutorials/blob/master/notebooks/MODIS_L2P_SST_DataCube.ipynb',\n",
      "                                'hreflang': 'en-US',\n",
      "                                'rel': 'http://esipfed.org/ns/fedsearch/1.1/documentation#'},\n",
      "                               {'href': 'https://search.earthdata.nasa.gov/search/granules?p=C1940473819-POCLOUD',\n",
      "                                'hreflang': 'en-US',\n",
      "                                'rel': 'http://esipfed.org/ns/fedsearch/1.1/data#'}],\n",
      "                     'online_access_flag': True,\n",
      "                     'orbit_parameters': {'inclination_angle': '98.1',\n",
      "                                          'number_of_orbits': '1.0',\n",
      "                                          'period': '98.4',\n",
      "                                          'swath_width': '2330.0'},\n",
      "                     'organizations': ['NASA/JPL/PODAAC'],\n",
      "                     'original_format': 'UMM_JSON',\n",
      "                     'platforms': ['Aqua'],\n",
      "                     'processing_level_id': '2',\n",
      "                     'service_features': {'esi': {'has_formats': False,\n",
      "                                                  'has_spatial_subsetting': False,\n",
      "                                                  'has_temporal_subsetting': False,\n",
      "                                                  'has_transforms': False,\n",
      "                                                  'has_variables': False},\n",
      "                                          'harmony': {'has_formats': True,\n",
      "                                                      'has_spatial_subsetting': True,\n",
      "                                                      'has_temporal_subsetting': True,\n",
      "                                                      'has_transforms': False,\n",
      "                                                      'has_variables': True},\n",
      "                                          'opendap': {'has_formats': True,\n",
      "                                                      'has_spatial_subsetting': True,\n",
      "                                                      'has_temporal_subsetting': True,\n",
      "                                                      'has_transforms': False,\n",
      "                                                      'has_variables': True}},\n",
      "                     'short_name': 'MODIS_A-JPL-L2P-v2019.0',\n",
      "                     'summary': 'NASA produces skin sea surface temperature '\n",
      "                                '(SST) products from the Infrared (IR) '\n",
      "                                'channels of the Moderate-resolution Imaging '\n",
      "                                'Spectroradiometer (MODIS) onboard the Aqua '\n",
      "                                'satellite. Aqua was launched by NASA on May '\n",
      "                                '4, 2002, into a sun synchronous, polar orbit '\n",
      "                                'with a daylight ascending node at 1:30 pm, '\n",
      "                                'formation flying in the A-train with other '\n",
      "                                'Earth Observation Satellites (EOS), to study '\n",
      "                                'the global dynamics of the Earth atmosphere, '\n",
      "                                'land and oceans. MODIS captures data in 36 '\n",
      "                                'spectral bands at a variety of spatial '\n",
      "                                'resolutions.  Two SST products can be present '\n",
      "                                'in these files. The first is a skin SST '\n",
      "                                'produced for both day and night (NSST) '\n",
      "                                'observations, derived from the long wave IR '\n",
      "                                '11 and 12 micron wavelength channels, using a '\n",
      "                                'modified nonlinear SST algorithm intended to '\n",
      "                                'provide continuity of SST derived from '\n",
      "                                'heritage and current NASA sensors. At night, '\n",
      "                                'a second SST product is generated using the '\n",
      "                                'mid-infrared 3.95 and 4.05 micron  wavelength '\n",
      "                                'channels which are unique to MODIS; the SST '\n",
      "                                'derived from these measurements is identified '\n",
      "                                'as SST4. The SST4 product has lower '\n",
      "                                'uncertainty, but due to sun glint can only be '\n",
      "                                'used at night. MODIS L2P SST data have a 1 km '\n",
      "                                'spatial resolution at nadir and are stored in '\n",
      "                                '288 five minute granules per day. Full global '\n",
      "                                'coverage is obtained every two days, with '\n",
      "                                'coverage poleward of 32.3 degree being '\n",
      "                                'complete each day.  The production of MODIS '\n",
      "                                'L2P SST files is part of the Group for High '\n",
      "                                'Resolution Sea Surface Temperature (GHRSST) '\n",
      "                                'project and is a joint collaboration between '\n",
      "                                'the NASA Jet Propulsion Laboratory (JPL), the '\n",
      "                                'NASA Ocean Biology Processing Group (OBPG), '\n",
      "                                'and the Rosenstiel School of Marine and '\n",
      "                                'Atmospheric Science (RSMAS). Researchers at '\n",
      "                                'RSMAS are responsible for SST algorithm '\n",
      "                                'development, error statistics and quality '\n",
      "                                'flagging, while the OBPG, as the NASA ground '\n",
      "                                'data system, is responsible for the '\n",
      "                                'production of daily MODIS ocean products. JPL '\n",
      "                                'acquires MODIS ocean granules from the OBPG '\n",
      "                                'and reformats them to the GHRSST L2P netCDF '\n",
      "                                'specification with complete metadata and '\n",
      "                                'ancillary variables, and distributes the data '\n",
      "                                'as the official Physical Oceanography Data '\n",
      "                                'Archive (PO.DAAC) for SST.  The R2019.0 '\n",
      "                                'supersedes the previous R2014.0 datasets '\n",
      "                                'which can be found at '\n",
      "                                'https://doi.org/10.5067/GHMDA-2PJ02',\n",
      "                     'time_start': '2002-07-04T00:00:00.000Z',\n",
      "                     'title': 'GHRSST Level 2P Global Sea Surface Skin '\n",
      "                              'Temperature from the Moderate Resolution '\n",
      "                              'Imaging Spectroradiometer (MODIS) on the NASA '\n",
      "                              'Aqua satellite (GDS2)',\n",
      "                     'updated': '2019-12-02T22:59:24.849Z',\n",
      "                     'version_id': '2019.0'}],\n",
      "          'id': 'https://cmr.earthdata.nasa.gov:443/search/collections.json?concept_id=C1940473819-POCLOUD',\n",
      "          'title': 'ECHO dataset metadata',\n",
      "          'updated': '2021-11-17T18:10:14.732Z'}}\n"
     ]
    }
   ],
   "source": [
    "pprint(response)"
   ]
  },
  {
   "cell_type": "markdown",
   "metadata": {},
   "source": [
    "#### What do each of these service values mean?\n",
    "\n",
    "- Associations\n",
    "     - CMR is a large web of interconnected metadata \"schemas\", including Collections, Granules, Services, Tools, and Variables. In this case, this collection is associated with two unique services, two tools, and several unique variables.\n",
    "- Tags\n",
    "    - There are also tags that describe what service options exist at a high-level. In this case, we see that this dataset supports the ability to reformat, subset by space and time, as well as by variable. This is used in web applications like Earthdata Search to surface those customization options more readily. \n",
    "- Service Features\n",
    "    - In this case, we see three separate \"features\" listed here: esi, Harmony, and OPeNDAP.\n",
    "    \n",
    "We will dig into more details on what Harmony offers for this dataset.\n",
    "\n",
    "First, we need to isolate the services returned for this dataset:"
   ]
  },
  {
   "cell_type": "code",
   "execution_count": 7,
   "metadata": {},
   "outputs": [
    {
     "name": "stdout",
     "output_type": "stream",
     "text": [
      "['S1962070864-POCLOUD', 'S2004184019-POCLOUD']\n"
     ]
    }
   ],
   "source": [
    "services = response['feed']['entry'][0]['associations']['services']\n",
    "print(services)"
   ]
  },
  {
   "cell_type": "code",
   "execution_count": 8,
   "metadata": {},
   "outputs": [],
   "source": [
    "service_url = \"https://cmr.earthdata.nasa.gov/search/services\""
   ]
  },
  {
   "cell_type": "markdown",
   "metadata": {},
   "source": [
    "Inspect the first service returned. Now we're going to search the services endpoint to view that individual service's metadata, like we did with our dataset above. This time, we're explicitly setting the format of the response to umm-json in the Accept Header in order to see detailed metadata about the service."
   ]
  },
  {
   "cell_type": "code",
   "execution_count": 9,
   "metadata": {},
   "outputs": [],
   "source": [
    "service_response = requests.get(service_url, \n",
    "                        params={\n",
    "                            'concept_id': services[0],\n",
    "                            },\n",
    "                        headers={\n",
    "                            'Accept': 'application/vnd.nasa.cmr.umm_results+json'\n",
    "                            }\n",
    "                       )\n",
    "service_response = service_response.json()"
   ]
  },
  {
   "cell_type": "markdown",
   "metadata": {},
   "source": [
    "Details about the service metadata record include the service options provided by the \"backend\" processor connected to Harmony, in this case the PODAAC Level 2 Cloud Subsetter:"
   ]
  },
  {
   "cell_type": "code",
   "execution_count": 10,
   "metadata": {},
   "outputs": [
    {
     "name": "stdout",
     "output_type": "stream",
     "text": [
      "{'hits': 1,\n",
      " 'items': [{'meta': {'concept-id': 'S1962070864-POCLOUD',\n",
      "                     'concept-type': 'service',\n",
      "                     'deleted': False,\n",
      "                     'format': 'application/vnd.nasa.cmr.umm+json',\n",
      "                     'native-id': 'POCLOUD_podaac_l2_cloud_subsetter',\n",
      "                     'provider-id': 'POCLOUD',\n",
      "                     'revision-date': '2021-11-02T22:57:03.597Z',\n",
      "                     'revision-id': 19,\n",
      "                     'user-id': 'podaaccloud'},\n",
      "            'umm': {'AccessConstraints': 'None',\n",
      "                    'Description': 'Endpoint for subsetting L2 Subsetter via '\n",
      "                                   'Harmony',\n",
      "                    'LongName': 'PODAAC Level 2 Cloud Subsetter',\n",
      "                    'MetadataSpecification': {'Name': 'UMM-S',\n",
      "                                              'URL': 'https://cdn.earthdata.nasa.gov/umm/service/v1.4',\n",
      "                                              'Version': '1.4'},\n",
      "                    'Name': 'PODAAC L2 Cloud Subsetter',\n",
      "                    'OperationMetadata': [{'OperationName': 'SPATIAL_SUBSETTING'},\n",
      "                                          {'OperationName': 'VARIABLE_SUBSETTING'},\n",
      "                                          {'OperationName': 'TEMPORAL_SUBSETTING'}],\n",
      "                    'ServiceKeywords': [{'ServiceCategory': 'EARTH SCIENCE '\n",
      "                                                            'SERVICES',\n",
      "                                         'ServiceTerm': 'SUBSETTING/SUPERSETTING',\n",
      "                                         'ServiceTopic': 'DATA MANAGEMENT/DATA '\n",
      "                                                         'HANDLING'}],\n",
      "                    'ServiceOptions': {'Subset': {'SpatialSubset': {'BoundingBox': {'AllowMultipleValues': False}},\n",
      "                                                  'TemporalSubset': {'AllowMultipleValues': False},\n",
      "                                                  'VariableSubset': {'AllowMultipleValues': True}},\n",
      "                                       'SupportedReformattings': [{'SupportedInputFormat': 'HDF5',\n",
      "                                                                   'SupportedOutputFormats': ['NETCDF-4']},\n",
      "                                                                  {'SupportedInputFormat': 'NETCDF-4',\n",
      "                                                                   'SupportedOutputFormats': ['NETCDF-4']}]},\n",
      "                    'ServiceOrganizations': [{'LongName': 'Physical '\n",
      "                                                          'Oceanography '\n",
      "                                                          'Distributed Active '\n",
      "                                                          'Archive Center, Jet '\n",
      "                                                          'Propulsion '\n",
      "                                                          'Laboratory, NASA',\n",
      "                                              'Roles': ['ORIGINATOR'],\n",
      "                                              'ShortName': 'NASA/JPL/PODAAC'}],\n",
      "                    'Type': 'Harmony',\n",
      "                    'URL': {'Description': 'PROJECT HOME PAGE',\n",
      "                            'URLValue': 'https://harmony.earthdata.nasa.gov'},\n",
      "                    'Version': '1.1.0'}}],\n",
      " 'took': 51}\n"
     ]
    }
   ],
   "source": [
    "pprint(service_response)"
   ]
  },
  {
   "cell_type": "markdown",
   "metadata": {},
   "source": [
    "## Discover variable names\n",
    "\n",
    "Just like services, a dataset may also be associated to metadata on their individual data variables, which can be used as input if we wish to subset by one or more variables of interest."
   ]
  },
  {
   "cell_type": "code",
   "execution_count": 11,
   "metadata": {},
   "outputs": [
    {
     "name": "stdout",
     "output_type": "stream",
     "text": [
      "['V1997812737-POCLOUD', 'V1997812697-POCLOUD', 'V2112014688-POCLOUD', 'V1997812756-POCLOUD', 'V1997812688-POCLOUD', 'V1997812670-POCLOUD', 'V1997812724-POCLOUD', 'V2112014684-POCLOUD', 'V1997812701-POCLOUD', 'V1997812681-POCLOUD', 'V2112014686-POCLOUD', 'V1997812663-POCLOUD', 'V1997812676-POCLOUD', 'V1997812744-POCLOUD', 'V1997812714-POCLOUD']\n"
     ]
    }
   ],
   "source": [
    "variables = response['feed']['entry'][0]['associations']['variables']\n",
    "print(variables)"
   ]
  },
  {
   "cell_type": "markdown",
   "metadata": {},
   "source": [
    "Several variable records are returned. Again, like we did for services, we'll search the variables endpoint to view an individual variable's metadata, and we'll print out the list of variables for our dataset. "
   ]
  },
  {
   "cell_type": "code",
   "execution_count": 12,
   "metadata": {},
   "outputs": [],
   "source": [
    "var_url = \"https://cmr.earthdata.nasa.gov/search/variables\""
   ]
  },
  {
   "cell_type": "code",
   "execution_count": 13,
   "metadata": {},
   "outputs": [],
   "source": [
    "var_response = requests.get(var_url, \n",
    "                        params={\n",
    "                            'concept_id': variables[0],\n",
    "                            },\n",
    "                        headers={\n",
    "                            'Accept': 'application/vnd.nasa.cmr.umm_results+json'\n",
    "                            }\n",
    "                       )\n",
    "var_response = var_response.json()"
   ]
  },
  {
   "cell_type": "code",
   "execution_count": 14,
   "metadata": {},
   "outputs": [
    {
     "name": "stdout",
     "output_type": "stream",
     "text": [
      "{'hits': 1,\n",
      " 'items': [{'associations': {'collections': [{'concept-id': 'C1940473819-POCLOUD'}]},\n",
      "            'meta': {'concept-id': 'V1997812737-POCLOUD',\n",
      "                     'concept-type': 'variable',\n",
      "                     'deleted': False,\n",
      "                     'format': 'application/vnd.nasa.cmr.umm+json',\n",
      "                     'native-id': 'MODIS_A-JPL-L2P-v2019.0-sses_standard_deviation_4um',\n",
      "                     'provider-id': 'POCLOUD',\n",
      "                     'revision-date': '2021-10-19T02:26:51.560Z',\n",
      "                     'revision-id': 6,\n",
      "                     'user-id': 'jmcnelis'},\n",
      "            'umm': {'DataType': 'byte',\n",
      "                    'Definition': 'mid-IR SST standard deviation error; non '\n",
      "                                  'L2P core field; signed byte array:  WARNING '\n",
      "                                  'Some applications are unable to properly '\n",
      "                                  'handle signed byte values. If values are '\n",
      "                                  'encountered > 127, please subtract 256 from '\n",
      "                                  'this reported value',\n",
      "                    'Dimensions': [{'Name': 'time',\n",
      "                                    'Size': 1,\n",
      "                                    'Type': 'TIME_DIMENSION'},\n",
      "                                   {'Name': 'nj',\n",
      "                                    'Size': 2030,\n",
      "                                    'Type': 'ALONG_TRACK_DIMENSION'},\n",
      "                                   {'Name': 'ni',\n",
      "                                    'Size': 1354,\n",
      "                                    'Type': 'CROSS_TRACK_DIMENSION'}],\n",
      "                    'FillValues': [{'Type': 'SCIENCE_FILLVALUE',\n",
      "                                    'Value': -128}],\n",
      "                    'LongName': 'SSES standard deviation error based on '\n",
      "                                'proximity confidence flags',\n",
      "                    'Name': 'sses_standard_deviation_4um',\n",
      "                    'Offset': 10.0,\n",
      "                    'Scale': 0.07874016,\n",
      "                    'Sets': [{'Index': 1,\n",
      "                              'Name': 'sses_standard_deviation_4um',\n",
      "                              'Size': 1,\n",
      "                              'Type': 'General'}],\n",
      "                    'Units': 'kelvin',\n",
      "                    'ValidRanges': [{'Max': 127, 'Min': -127}],\n",
      "                    'VariableType': 'ANCILLARY_VARIABLE'}}],\n",
      " 'took': 8}\n"
     ]
    }
   ],
   "source": [
    "pprint(var_response)"
   ]
  },
  {
   "cell_type": "markdown",
   "metadata": {},
   "source": [
    "Next, print out a simple list of all associated variable names by looping the same variable response we submitted above, this time for each variable:"
   ]
  },
  {
   "cell_type": "code",
   "execution_count": 15,
   "metadata": {},
   "outputs": [],
   "source": [
    "var_list = []\n",
    "for i in range(len(variables)):\n",
    "    var_response = requests.get(var_url, \n",
    "                            params={\n",
    "                                'concept_id': variables[i],\n",
    "                                },\n",
    "                            headers={\n",
    "                                'Accept': 'application/vnd.nasa.cmr.umm_results+json'\n",
    "                                }\n",
    "                           )\n",
    "    var_response = var_response.json()\n",
    "    var_list.append(var_response['items'][0]['umm']['Name'])"
   ]
  },
  {
   "cell_type": "code",
   "execution_count": 16,
   "metadata": {},
   "outputs": [
    {
     "name": "stdout",
     "output_type": "stream",
     "text": [
      "['sses_standard_deviation_4um',\n",
      " 'l2p_flags',\n",
      " 'time',\n",
      " 'dt_analysis',\n",
      " 'sses_standard_deviation',\n",
      " 'sst_dtime',\n",
      " 'sses_bias_4um',\n",
      " 'lat',\n",
      " 'sea_surface_temperature_4um',\n",
      " 'sses_bias',\n",
      " 'lon',\n",
      " 'sea_surface_temperature',\n",
      " 'quality_level',\n",
      " 'wind_speed',\n",
      " 'quality_level_4um']\n"
     ]
    }
   ],
   "source": [
    "pprint(var_list)"
   ]
  },
  {
   "cell_type": "markdown",
   "metadata": {},
   "source": [
    "## Using Harmony-Py to subset data\n",
    "\n",
    "Harmony-Py provides a pip installable Python alternative to directly using Harmony's RESTful API to make it easier to request data and service options, especially when interacting within a Python Jupyter Notebook environment.\n",
    "\n",
    "The next steps are adopted from the [introduction tutorial](https://github.com/nasa/harmony-py/blob/main/examples/intro_tutorial.ipynb) notebook provided in the Harmony-Py library:\n",
    "\n",
    "### Create Harmony Client object\n",
    "First, we need to create a Harmony Client, which is what we will interact with to submit and inspect a data request to Harmony, as well as to retrieve results.\n",
    "\n",
    "When creating the Client, we need to provide Earthdata Login credentials, which are required to access data from NASA EOSDIS. This basic line below assumes that we have a `.netrc` available. "
   ]
  },
  {
   "cell_type": "code",
   "execution_count": 17,
   "metadata": {},
   "outputs": [],
   "source": [
    "harmony_client = Client()"
   ]
  },
  {
   "cell_type": "markdown",
   "metadata": {},
   "source": [
    "### Hurricane Ida snapshot\n",
    "\n",
    "Using [NASA Worldview](https://go.nasa.gov/3nhCwZi), we can first explore SST during a tropical storm event; in this case, we can overlay L2 and L4 SST variables against true color imagery to observe Hurricane Ida in August 2021. Although this is a small sample set, this use case could be expanded to explore how SST responds during the Atlantic hurricane over the next several months. The same data that we are requesting below using Harmony-py can also be requested using [NASA Earthdata Search](https://search.earthdata.nasa.gov/search/granules?p=C1940473819-POCLOUD&pg[0][v]=f&pg[0][qt]=2021-08-20T00%3A00%3A00.000Z%2C2021-08-20T23%3A59%3A59.999Z&pg[0][gsk]=-start_date&q=C1940473819-POCLOUD&sb[0]=-97.77667%2C21.20806%2C-83.05197%2C30.16605&tl=1636520265!3!!&m=30.69140625!-97.875!3!1!0!0%2C2) \n",
    "\n",
    "![Hurrican Ida snapshot - Worldview](data/Worldview-snapshot-Ida.jpeg)\n",
    "\n",
    "### Create Harmony Request\n",
    "\n",
    "The following are common request parameters:\n",
    "\n",
    "- `collection`: Required parameter. This is the NASA EOSDIS collection, or data product. There are two options for inputting a collection of interest:\n",
    "    - Provide a concept ID (e.g. C1940473819-POCLOUD)\n",
    "    - Data product short name (e.g. MODIS_A-JPL-L2P-v2019.0).\n",
    "- `spatial`: Bounding box spatial constraints on the data. The Harmony Bbox class accepts spatial coordinates as decimal degrees in w, s, e, n order, where longitude = -180, 180 and latitude = -90, 90.\n",
    "- `temporal`: Date/time constraints on the data. The example below demonstrates temporal start and end ranges using the python datetime library.\n",
    "\n",
    "As we identified above, only subsetting options are available for this dataset. If other service options such as reformatting are available for a given dataset, these can also be specified using Harmony-py: See the [documentation](https://harmony-py.readthedocs.io/en/latest/) for details on how to construct these parameters."
   ]
  },
  {
   "cell_type": "code",
   "execution_count": 18,
   "metadata": {},
   "outputs": [],
   "source": [
    "request = Request(\n",
    "    collection=Collection(id=short_name),\n",
    "    spatial=BBox(-97.77667,21.20806,-83.05197,30.16605),\n",
    "    temporal={\n",
    "        'start': dt.datetime(2021, 8, 20),\n",
    "        'stop': dt.datetime(2021, 8, 21),\n",
    "    },\n",
    ")"
   ]
  },
  {
   "cell_type": "markdown",
   "metadata": {},
   "source": [
    "### Check Request validity\n",
    "Before submitting a Harmony Request, we can test your request to see if it's valid and how to fix it if not. In particular, `request.is_valid` will check to ensure that the spatial BBox bounds and temporal ranges are entered correctly."
   ]
  },
  {
   "cell_type": "code",
   "execution_count": 19,
   "metadata": {},
   "outputs": [
    {
     "data": {
      "text/plain": [
       "True"
      ]
     },
     "execution_count": 19,
     "metadata": {},
     "output_type": "execute_result"
    }
   ],
   "source": [
    "request.is_valid()"
   ]
  },
  {
   "cell_type": "markdown",
   "metadata": {},
   "source": [
    "### Submit request\n",
    "\n",
    "Now that the request is created, we can now submit it to Harmony using the Harmony Client object. A job id is returned, which is a unique identifier that represents the submitted request."
   ]
  },
  {
   "cell_type": "code",
   "execution_count": 20,
   "metadata": {},
   "outputs": [
    {
     "data": {
      "text/plain": [
       "'75a8aa7a-253d-43fd-b837-4669caf35d83'"
      ]
     },
     "execution_count": 20,
     "metadata": {},
     "output_type": "execute_result"
    }
   ],
   "source": [
    "job_id = harmony_client.submit(request)\n",
    "job_id"
   ]
  },
  {
   "cell_type": "markdown",
   "metadata": {},
   "source": [
    "### Check request status\n",
    "\n",
    "We can check on the progress of a processing job with status(). This method blocks while communicating with the server but returns quickly."
   ]
  },
  {
   "cell_type": "code",
   "execution_count": 21,
   "metadata": {},
   "outputs": [
    {
     "data": {
      "text/plain": [
       "{'status': 'running',\n",
       " 'message': 'There were 2 collections that matched the provided short name MODIS_A-JPL-L2P-v2019.0. See https://cmr.earthdata.nasa.gov/concepts/C1940473819-POCLOUD for details on the selected collection. The version ID for the selected collection is 2019.0. To use a different collection submit a new request specifying the desired CMR concept ID instead of the collection short name.',\n",
       " 'progress': 0,\n",
       " 'created_at': datetime.datetime(2021, 11, 17, 18, 29, 44, 543000, tzinfo=tzlocal()),\n",
       " 'updated_at': datetime.datetime(2021, 11, 17, 18, 29, 44, 543000, tzinfo=tzlocal()),\n",
       " 'request': 'https://harmony.earthdata.nasa.gov/MODIS_A-JPL-L2P-v2019.0/ogc-api-coverages/1.0.0/collections/all/coverage/rangeset?forceAsync=true&subset=lat(21.20806%3A30.16605)&subset=lon(-97.77667%3A-83.05197)&subset=time(%222021-08-20T00%3A00%3A00%22%3A%222021-08-21T00%3A00%3A00%22)',\n",
       " 'num_input_granules': 6}"
      ]
     },
     "execution_count": 21,
     "metadata": {},
     "output_type": "execute_result"
    }
   ],
   "source": [
    "harmony_client.status(job_id)"
   ]
  },
  {
   "cell_type": "markdown",
   "metadata": {},
   "source": [
    "Depending on the size of the request, it may be helpful to wait until the request has completed processing before the remainder of the code is executed. The wait_for_processing() method will block subsequent lines of code while optionally showing a progress bar."
   ]
  },
  {
   "cell_type": "code",
   "execution_count": 22,
   "metadata": {},
   "outputs": [
    {
     "name": "stderr",
     "output_type": "stream",
     "text": [
      " [ Processing: 100% ] |###################################################| [|]\n"
     ]
    }
   ],
   "source": [
    "harmony_client.wait_for_processing(job_id, show_progress=True)"
   ]
  },
  {
   "cell_type": "markdown",
   "metadata": {},
   "source": [
    "### View Harmony job response and output URLs\n",
    "Once the data request has finished processing, we can view details on the job that was submitted to Harmony, including the API call to Harmony, and informational messages on the request if available.\n",
    "\n",
    "result_json() calls wait_for_processing() and returns the complete job in JSON format once processing is complete. "
   ]
  },
  {
   "cell_type": "code",
   "execution_count": 23,
   "metadata": {},
   "outputs": [
    {
     "name": "stdout",
     "output_type": "stream",
     "text": [
      "{'createdAt': '2021-11-17T18:29:44.543Z',\n",
      " 'jobID': '75a8aa7a-253d-43fd-b837-4669caf35d83',\n",
      " 'links': [{'href': 'https://harmony.earthdata.nasa.gov/stac/75a8aa7a-253d-43fd-b837-4669caf35d83/',\n",
      "            'rel': 'stac-catalog-json',\n",
      "            'title': 'STAC catalog',\n",
      "            'type': 'application/json'},\n",
      "           {'bbox': [-83.612, 1.103, -58.391, 22.005],\n",
      "            'href': 'https://harmony.earthdata.nasa.gov/service-results/harmony-prod-staging/public/podaac/l2-subsetter/4a37e5e9-09b4-4972-901f-78506295224a/20210820062501-JPL-L2P_GHRSST-SSTskin-MODIS_A-N-v02.0-fv01.0.nc4',\n",
      "            'rel': 'data',\n",
      "            'temporal': {'end': '2021-08-20T06:29:58.000Z',\n",
      "                         'start': '2021-08-20T06:25:01.000Z'},\n",
      "            'title': '20210820062501-JPL-L2P_GHRSST-SSTskin-MODIS_A-N-v02.0-fv01.0.nc4',\n",
      "            'type': 'application/x-netcdf4'},\n",
      "           {'bbox': [-97.8, 21.2, -83.1, 30.2],\n",
      "            'href': 'https://harmony.earthdata.nasa.gov/service-results/harmony-prod-staging/public/podaac/l2-subsetter/4a37e5e9-09b4-4972-901f-78506295224a/20210820080001-JPL-L2P_GHRSST-SSTskin-MODIS_A-N-v02.0-fv01.0_subsetted.nc4',\n",
      "            'rel': 'data',\n",
      "            'temporal': {'end': '2021-08-20T08:04:58.000Z',\n",
      "                         'start': '2021-08-20T08:00:01.000Z'},\n",
      "            'title': '20210820080001-JPL-L2P_GHRSST-SSTskin-MODIS_A-N-v02.0-fv01.0_subsetted.nc4',\n",
      "            'type': 'application/x-netcdf4'},\n",
      "           {'bbox': [-128.335, 29.006, -95.854, 49.87],\n",
      "            'href': 'https://harmony.earthdata.nasa.gov/service-results/harmony-prod-staging/public/podaac/l2-subsetter/4a37e5e9-09b4-4972-901f-78506295224a/20210820093501-JPL-L2P_GHRSST-SSTskin-MODIS_A-N-v02.0-fv01.0.nc4',\n",
      "            'rel': 'data',\n",
      "            'temporal': {'end': '2021-08-20T09:39:49.000Z',\n",
      "                         'start': '2021-08-20T09:35:01.000Z'},\n",
      "            'title': '20210820093501-JPL-L2P_GHRSST-SSTskin-MODIS_A-N-v02.0-fv01.0.nc4',\n",
      "            'type': 'application/x-netcdf4'},\n",
      "           {'bbox': [-96.8, 21.2, -83.1, 27.7],\n",
      "            'href': 'https://harmony.earthdata.nasa.gov/service-results/harmony-prod-staging/public/podaac/l2-subsetter/4a37e5e9-09b4-4972-901f-78506295224a/20210820185501-JPL-L2P_GHRSST-SSTskin-MODIS_A-D-v02.0-fv01.0_subsetted.nc4',\n",
      "            'rel': 'data',\n",
      "            'temporal': {'end': '2021-08-20T18:59:58.000Z',\n",
      "                         'start': '2021-08-20T18:55:01.000Z'},\n",
      "            'title': '20210820185501-JPL-L2P_GHRSST-SSTskin-MODIS_A-D-v02.0-fv01.0_subsetted.nc4',\n",
      "            'type': 'application/x-netcdf4'},\n",
      "           {'bbox': [-97.8, 25.3, -83.1, 30.2],\n",
      "            'href': 'https://harmony.earthdata.nasa.gov/service-results/harmony-prod-staging/public/podaac/l2-subsetter/4a37e5e9-09b4-4972-901f-78506295224a/20210820190001-JPL-L2P_GHRSST-SSTskin-MODIS_A-D-v02.0-fv01.0_subsetted.nc4',\n",
      "            'rel': 'data',\n",
      "            'temporal': {'end': '2021-08-20T19:04:58.000Z',\n",
      "                         'start': '2021-08-20T19:00:01.000Z'},\n",
      "            'title': '20210820190001-JPL-L2P_GHRSST-SSTskin-MODIS_A-D-v02.0-fv01.0_subsetted.nc4',\n",
      "            'type': 'application/x-netcdf4'},\n",
      "           {'bbox': [-97.8, 21.2, -97.3, 24.6],\n",
      "            'href': 'https://harmony.earthdata.nasa.gov/service-results/harmony-prod-staging/public/podaac/l2-subsetter/4a37e5e9-09b4-4972-901f-78506295224a/20210820203501-JPL-L2P_GHRSST-SSTskin-MODIS_A-D-v02.0-fv01.0_subsetted.nc4',\n",
      "            'rel': 'data',\n",
      "            'temporal': {'end': '2021-08-20T20:39:58.000Z',\n",
      "                         'start': '2021-08-20T20:35:01.000Z'},\n",
      "            'title': '20210820203501-JPL-L2P_GHRSST-SSTskin-MODIS_A-D-v02.0-fv01.0_subsetted.nc4',\n",
      "            'type': 'application/x-netcdf4'},\n",
      "           {'href': 'https://harmony.earthdata.nasa.gov/jobs/75a8aa7a-253d-43fd-b837-4669caf35d83?linktype=https&page=1&limit=2000',\n",
      "            'rel': 'self',\n",
      "            'title': 'The current page',\n",
      "            'type': 'application/json'}],\n",
      " 'message': 'There were 2 collections that matched the provided short name '\n",
      "            'MODIS_A-JPL-L2P-v2019.0. See '\n",
      "            'https://cmr.earthdata.nasa.gov/concepts/C1940473819-POCLOUD for '\n",
      "            'details on the selected collection. The version ID for the '\n",
      "            'selected collection is 2019.0. To use a different collection '\n",
      "            'submit a new request specifying the desired CMR concept ID '\n",
      "            'instead of the collection short name.',\n",
      " 'numInputGranules': 6,\n",
      " 'progress': 100,\n",
      " 'request': 'https://harmony.earthdata.nasa.gov/MODIS_A-JPL-L2P-v2019.0/ogc-api-coverages/1.0.0/collections/all/coverage/rangeset?forceAsync=true&subset=lat(21.20806%3A30.16605)&subset=lon(-97.77667%3A-83.05197)&subset=time(%222021-08-20T00%3A00%3A00%22%3A%222021-08-21T00%3A00%3A00%22)',\n",
      " 'status': 'successful',\n",
      " 'updatedAt': '2021-11-17T18:30:19.854Z',\n",
      " 'username': 'mbonnema'}\n"
     ]
    }
   ],
   "source": [
    "data = harmony_client.result_json(job_id)\n",
    "pprint(data)"
   ]
  },
  {
   "cell_type": "markdown",
   "metadata": {},
   "source": [
    "### Direct cloud access\n",
    "\n",
    "Note that the remainder of this tutorial will only succeed when running this notebook within the AWS us-west-2 region.\n",
    "\n",
    "Harmony data outputs can be accessed within the cloud using the s3 URLs and AWS credentials provided in the Harmony job response.\n",
    "\n",
    "#### Retrieve list of output URLs.\n",
    "\n",
    "The result_urls() method calls wait_for_processing() and returns a list of the processed data URLs once processing is complete. You may optionally show the progress bar as shown below."
   ]
  },
  {
   "cell_type": "code",
   "execution_count": 24,
   "metadata": {},
   "outputs": [
    {
     "name": "stdout",
     "output_type": "stream",
     "text": [
      "['s3://harmony-prod-staging/public/podaac/l2-subsetter/4a37e5e9-09b4-4972-901f-78506295224a/20210820062501-JPL-L2P_GHRSST-SSTskin-MODIS_A-N-v02.0-fv01.0.nc4',\n",
      " 's3://harmony-prod-staging/public/podaac/l2-subsetter/4a37e5e9-09b4-4972-901f-78506295224a/20210820080001-JPL-L2P_GHRSST-SSTskin-MODIS_A-N-v02.0-fv01.0_subsetted.nc4',\n",
      " 's3://harmony-prod-staging/public/podaac/l2-subsetter/4a37e5e9-09b4-4972-901f-78506295224a/20210820093501-JPL-L2P_GHRSST-SSTskin-MODIS_A-N-v02.0-fv01.0.nc4',\n",
      " 's3://harmony-prod-staging/public/podaac/l2-subsetter/4a37e5e9-09b4-4972-901f-78506295224a/20210820185501-JPL-L2P_GHRSST-SSTskin-MODIS_A-D-v02.0-fv01.0_subsetted.nc4',\n",
      " 's3://harmony-prod-staging/public/podaac/l2-subsetter/4a37e5e9-09b4-4972-901f-78506295224a/20210820190001-JPL-L2P_GHRSST-SSTskin-MODIS_A-D-v02.0-fv01.0_subsetted.nc4',\n",
      " 's3://harmony-prod-staging/public/podaac/l2-subsetter/4a37e5e9-09b4-4972-901f-78506295224a/20210820203501-JPL-L2P_GHRSST-SSTskin-MODIS_A-D-v02.0-fv01.0_subsetted.nc4']\n"
     ]
    }
   ],
   "source": [
    "results = harmony_client.result_urls(job_id, link_type=LinkType.s3)\n",
    "urls = list(results)\n",
    "pprint(urls)"
   ]
  },
  {
   "cell_type": "markdown",
   "metadata": {},
   "source": [
    "We can see that the first file returned does not include the `_subsetted` suffix, which indicates that a blank file was returned, as no data values were located within our subsetted region. We'll select the second URL in the list to bring into xarray below."
   ]
  },
  {
   "cell_type": "code",
   "execution_count": 25,
   "metadata": {},
   "outputs": [
    {
     "data": {
      "text/plain": [
       "'s3://harmony-prod-staging/public/podaac/l2-subsetter/4a37e5e9-09b4-4972-901f-78506295224a/20210820080001-JPL-L2P_GHRSST-SSTskin-MODIS_A-N-v02.0-fv01.0_subsetted.nc4'"
      ]
     },
     "execution_count": 25,
     "metadata": {},
     "output_type": "execute_result"
    }
   ],
   "source": [
    "url = urls[1]\n",
    "url"
   ]
  },
  {
   "cell_type": "markdown",
   "metadata": {},
   "source": [
    "#### AWS credential retrieval\n",
    "Using aws_credentials you can retrieve the credentials needed to access the Harmony s3 staging bucket and its contents."
   ]
  },
  {
   "cell_type": "code",
   "execution_count": 26,
   "metadata": {},
   "outputs": [],
   "source": [
    "creds = harmony_client.aws_credentials()"
   ]
  },
  {
   "cell_type": "markdown",
   "metadata": {},
   "source": [
    "### Open staged files with *s3fs* and *xarray*\n",
    "\n",
    "We use the AWS `s3fs` package to create a file system that can then be read by xarray:"
   ]
  },
  {
   "cell_type": "code",
   "execution_count": 27,
   "metadata": {},
   "outputs": [],
   "source": [
    "s3_fs = s3fs.S3FileSystem(\n",
    "    key=creds['aws_access_key_id'],\n",
    "    secret=creds['aws_secret_access_key'],\n",
    "    token=creds['aws_session_token'],\n",
    "    client_kwargs={'region_name':'us-west-2'},\n",
    ")"
   ]
  },
  {
   "cell_type": "markdown",
   "metadata": {},
   "source": [
    "Now that we have our s3 file system set, including our declared credentials, we'll use that to open the url, and read in the file through xarray. This extra step is needed because xarray cannot open the S3 location directly. Instead, the S3 file object is passed to xarray, in order to then open the dataset. "
   ]
  },
  {
   "cell_type": "code",
   "execution_count": null,
   "metadata": {},
   "outputs": [],
   "source": [
    "f = s3_fs.open(url, mode='rb')\n",
    "ds = xr.open_dataset(f)\n",
    "ds"
   ]
  },
  {
   "cell_type": "markdown",
   "metadata": {},
   "source": [
    "### Plot the data\n",
    "\n",
    "Use the xarray built in plotting function to create a simple plot along the x and y dimensions of the dataset:"
   ]
  },
  {
   "cell_type": "code",
   "execution_count": null,
   "metadata": {},
   "outputs": [],
   "source": [
    "#"
   ]
  },
  {
   "cell_type": "markdown",
   "metadata": {},
   "source": [
    "## Resources\n",
    "\n",
    "1. In-depth exploration of the `MODIS_A-JPL-L2P-v2019.0` data set, co-locating in-situ and remote sensing data: \n",
    "https://github.com/podaac/tutorials/blob/master/notebooks/SWOT-EA-2021/Colocate_satellite_insitu_ocean.ipynb\n",
    "\n",
    "2. Harmony-Py library introduction tutorial: https://github.com/nasa/harmony-py/blob/main/examples/intro_tutorial.ipynb\n"
   ]
  }
 ],
 "metadata": {
  "kernelspec": {
   "display_name": "Python 3 (ipykernel)",
   "language": "python",
   "name": "python3"
  },
  "language_info": {
   "codemirror_mode": {
    "name": "ipython",
    "version": 3
   },
   "file_extension": ".py",
   "mimetype": "text/x-python",
   "name": "python",
   "nbconvert_exporter": "python",
   "pygments_lexer": "ipython3",
   "version": "3.9.7"
  }
 },
 "nbformat": 4,
 "nbformat_minor": 4
}
